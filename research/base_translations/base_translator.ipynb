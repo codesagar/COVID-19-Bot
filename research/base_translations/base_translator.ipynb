{
 "cells": [
  {
   "cell_type": "markdown",
   "metadata": {},
   "source": [
    "## Preparing base translations from Google translate API. <br> **Volunteers shall refine these base translations**"
   ]
  },
  {
   "cell_type": "code",
   "execution_count": 2,
   "metadata": {
    "ExecuteTime": {
     "end_time": "2020-04-01T13:21:55.441020Z",
     "start_time": "2020-04-01T13:21:55.294022Z"
    }
   },
   "outputs": [],
   "source": [
    "import time\n",
    "from googletrans import Translator\n",
    "translator = Translator()\n",
    "lang_list = ['gu','hi','kn','mr','te','ta','bn']"
   ]
  },
  {
   "cell_type": "markdown",
   "metadata": {},
   "source": [
    "## Test"
   ]
  },
  {
   "cell_type": "code",
   "execution_count": 3,
   "metadata": {
    "ExecuteTime": {
     "end_time": "2020-04-01T13:22:03.612605Z",
     "start_time": "2020-04-01T13:21:55.608249Z"
    }
   },
   "outputs": [
    {
     "name": "stdout",
     "output_type": "stream",
     "text": [
      "શરીરનો દુખાવો\n",
      "बदन दर्द\n",
      "ದೇಹ ನೋವು\n",
      "शरीर वेदना\n",
      "శరీర నొప్పి\n",
      "உடல் வலி\n",
      "শরীর ব্যাথা\n"
     ]
    }
   ],
   "source": [
    "phrase = 'Body Pain'\n",
    "for lang in lang_list:\n",
    "    time.sleep(1)\n",
    "    print(translator.translate(phrase, dest=lang).text)"
   ]
  },
  {
   "cell_type": "markdown",
   "metadata": {},
   "source": [
    "## Generating questions in different language"
   ]
  },
  {
   "cell_type": "code",
   "execution_count": 47,
   "metadata": {
    "ExecuteTime": {
     "end_time": "2020-03-25T18:10:30.877837Z",
     "start_time": "2020-03-25T18:10:30.863250Z"
    }
   },
   "outputs": [],
   "source": [
    "import pandas as pd\n",
    "questions = pd.read_csv(\"questions.csv\")"
   ]
  },
  {
   "cell_type": "code",
   "execution_count": 48,
   "metadata": {
    "ExecuteTime": {
     "end_time": "2020-03-25T18:10:31.309983Z",
     "start_time": "2020-03-25T18:10:31.292329Z"
    }
   },
   "outputs": [
    {
     "data": {
      "text/html": [
       "<div>\n",
       "<style scoped>\n",
       "    .dataframe tbody tr th:only-of-type {\n",
       "        vertical-align: middle;\n",
       "    }\n",
       "\n",
       "    .dataframe tbody tr th {\n",
       "        vertical-align: top;\n",
       "    }\n",
       "\n",
       "    .dataframe thead th {\n",
       "        text-align: right;\n",
       "    }\n",
       "</style>\n",
       "<table border=\"1\" class=\"dataframe\">\n",
       "  <thead>\n",
       "    <tr style=\"text-align: right;\">\n",
       "      <th></th>\n",
       "      <th>tag</th>\n",
       "      <th>question</th>\n",
       "      <th>type</th>\n",
       "      <th>options</th>\n",
       "    </tr>\n",
       "  </thead>\n",
       "  <tbody>\n",
       "    <tr>\n",
       "      <th>0</th>\n",
       "      <td>age</td>\n",
       "      <td>Enter your age</td>\n",
       "      <td>text</td>\n",
       "      <td>text</td>\n",
       "    </tr>\n",
       "    <tr>\n",
       "      <th>1</th>\n",
       "      <td>gender</td>\n",
       "      <td>Select your gender</td>\n",
       "      <td>single</td>\n",
       "      <td>Male,Female,Other</td>\n",
       "    </tr>\n",
       "    <tr>\n",
       "      <th>2</th>\n",
       "      <td>fever</td>\n",
       "      <td>Do you have fever?</td>\n",
       "      <td>single</td>\n",
       "      <td>No Fever (96°F-98.6°F),Minor Fever (98.6°F-102...</td>\n",
       "    </tr>\n",
       "    <tr>\n",
       "      <th>3</th>\n",
       "      <td>cold</td>\n",
       "      <td>Any cold related symptoms?</td>\n",
       "      <td>multiple</td>\n",
       "      <td>running nose,cough,sore throat,sneezing,none o...</td>\n",
       "    </tr>\n",
       "    <tr>\n",
       "      <th>4</th>\n",
       "      <td>breathing</td>\n",
       "      <td>Any breathing related challenges?</td>\n",
       "      <td>multiple</td>\n",
       "      <td>Shortness of breath,Difficulty in breathing,Co...</td>\n",
       "    </tr>\n",
       "  </tbody>\n",
       "</table>\n",
       "</div>"
      ],
      "text/plain": [
       "         tag                           question      type  \\\n",
       "0        age                     Enter your age      text   \n",
       "1     gender                 Select your gender    single   \n",
       "2      fever                 Do you have fever?    single   \n",
       "3       cold         Any cold related symptoms?  multiple   \n",
       "4  breathing  Any breathing related challenges?  multiple   \n",
       "\n",
       "                                             options  \n",
       "0                                               text  \n",
       "1                                  Male,Female,Other  \n",
       "2  No Fever (96°F-98.6°F),Minor Fever (98.6°F-102...  \n",
       "3  running nose,cough,sore throat,sneezing,none o...  \n",
       "4  Shortness of breath,Difficulty in breathing,Co...  "
      ]
     },
     "execution_count": 48,
     "metadata": {},
     "output_type": "execute_result"
    }
   ],
   "source": [
    "questions.head()"
   ]
  },
  {
   "cell_type": "code",
   "execution_count": null,
   "metadata": {
    "ExecuteTime": {
     "end_time": "2020-03-25T18:26:59.218410Z",
     "start_time": "2020-03-25T18:26:00.879254Z"
    }
   },
   "outputs": [],
   "source": [
    "from googletrans import Translator\n",
    "translator = Translator()\n",
    "\n",
    "for lang in lang_list:\n",
    "    print(lang)\n",
    "    temp = questions.copy()\n",
    "    temp['translated_question'] = [ques.text for ques in translator.translate(list(temp['question']), src='en', dest=lang)]\n",
    "    temp['translated_options'] = temp['options'].apply(lambda x: [op.text for op in translator.translate(x.split(\",\"), src='en', dest=lang)])\n",
    "    temp = temp[['tag','type','question','translated_question','options','translated_options']]\n",
    "    temp.to_csv(lang+\"_questions.csv\", index=False)"
   ]
  },
  {
   "cell_type": "markdown",
   "metadata": {},
   "source": [
    "## Previewing hindi questions"
   ]
  },
  {
   "cell_type": "code",
   "execution_count": 59,
   "metadata": {
    "ExecuteTime": {
     "end_time": "2020-03-26T03:18:44.639104Z",
     "start_time": "2020-03-26T03:18:44.624663Z"
    }
   },
   "outputs": [],
   "source": [
    "hi_questions = pd.read_csv(\"hi_questions.csv\")"
   ]
  },
  {
   "cell_type": "code",
   "execution_count": 60,
   "metadata": {
    "ExecuteTime": {
     "end_time": "2020-03-26T03:18:50.587946Z",
     "start_time": "2020-03-26T03:18:50.557722Z"
    }
   },
   "outputs": [
    {
     "data": {
      "text/html": [
       "<div>\n",
       "<style scoped>\n",
       "    .dataframe tbody tr th:only-of-type {\n",
       "        vertical-align: middle;\n",
       "    }\n",
       "\n",
       "    .dataframe tbody tr th {\n",
       "        vertical-align: top;\n",
       "    }\n",
       "\n",
       "    .dataframe thead th {\n",
       "        text-align: right;\n",
       "    }\n",
       "</style>\n",
       "<table border=\"1\" class=\"dataframe\">\n",
       "  <thead>\n",
       "    <tr style=\"text-align: right;\">\n",
       "      <th></th>\n",
       "      <th>tag</th>\n",
       "      <th>type</th>\n",
       "      <th>question</th>\n",
       "      <th>translated_question</th>\n",
       "      <th>options</th>\n",
       "      <th>translated_options</th>\n",
       "    </tr>\n",
       "  </thead>\n",
       "  <tbody>\n",
       "    <tr>\n",
       "      <th>0</th>\n",
       "      <td>age</td>\n",
       "      <td>text</td>\n",
       "      <td>Enter your age</td>\n",
       "      <td>अपनी आयु दर्ज करें</td>\n",
       "      <td>text</td>\n",
       "      <td>['टेक्स्ट']</td>\n",
       "    </tr>\n",
       "    <tr>\n",
       "      <th>1</th>\n",
       "      <td>gender</td>\n",
       "      <td>single</td>\n",
       "      <td>Select your gender</td>\n",
       "      <td>अपना लिंग चुनें</td>\n",
       "      <td>Male,Female,Other</td>\n",
       "      <td>['पुरुष', 'महिला', 'अन्य']</td>\n",
       "    </tr>\n",
       "    <tr>\n",
       "      <th>2</th>\n",
       "      <td>fever</td>\n",
       "      <td>single</td>\n",
       "      <td>Do you have fever?</td>\n",
       "      <td>क्या आपको बुखार है?</td>\n",
       "      <td>No Fever (96°F-98.6°F),Minor Fever (98.6°F-102...</td>\n",
       "      <td>['कोई बुखार नहीं (96°F - 98.6°F)', 'साधारण बुख...</td>\n",
       "    </tr>\n",
       "    <tr>\n",
       "      <th>3</th>\n",
       "      <td>cold</td>\n",
       "      <td>multiple</td>\n",
       "      <td>Any cold related symptoms?</td>\n",
       "      <td>सर्दी या जुकाम संबंधित लक्षण? (सारे उचित विकल्...</td>\n",
       "      <td>running nose,cough,sore throat,sneezing,none o...</td>\n",
       "      <td>['बहता नाक', 'खांसी', 'गले में खराश', 'छींक आन...</td>\n",
       "    </tr>\n",
       "    <tr>\n",
       "      <th>4</th>\n",
       "      <td>breathing</td>\n",
       "      <td>multiple</td>\n",
       "      <td>Any breathing related challenges?</td>\n",
       "      <td>फेफड़े या सांस लेने से संबंधित चुनौतियां? (सारे...</td>\n",
       "      <td>Shortness of breath,Difficulty in breathing,Co...</td>\n",
       "      <td>['सांस फूलना', 'सांस लेने में दिक्कत', 'छाती म...</td>\n",
       "    </tr>\n",
       "  </tbody>\n",
       "</table>\n",
       "</div>"
      ],
      "text/plain": [
       "         tag      type                           question  \\\n",
       "0        age      text                     Enter your age   \n",
       "1     gender    single                 Select your gender   \n",
       "2      fever    single                 Do you have fever?   \n",
       "3       cold  multiple         Any cold related symptoms?   \n",
       "4  breathing  multiple  Any breathing related challenges?   \n",
       "\n",
       "                                 translated_question  \\\n",
       "0                                 अपनी आयु दर्ज करें   \n",
       "1                                    अपना लिंग चुनें   \n",
       "2                                क्या आपको बुखार है?   \n",
       "3  सर्दी या जुकाम संबंधित लक्षण? (सारे उचित विकल्...   \n",
       "4  फेफड़े या सांस लेने से संबंधित चुनौतियां? (सारे...   \n",
       "\n",
       "                                             options  \\\n",
       "0                                               text   \n",
       "1                                  Male,Female,Other   \n",
       "2  No Fever (96°F-98.6°F),Minor Fever (98.6°F-102...   \n",
       "3  running nose,cough,sore throat,sneezing,none o...   \n",
       "4  Shortness of breath,Difficulty in breathing,Co...   \n",
       "\n",
       "                                  translated_options  \n",
       "0                                        ['टेक्स्ट']  \n",
       "1                         ['पुरुष', 'महिला', 'अन्य']  \n",
       "2  ['कोई बुखार नहीं (96°F - 98.6°F)', 'साधारण बुख...  \n",
       "3  ['बहता नाक', 'खांसी', 'गले में खराश', 'छींक आन...  \n",
       "4  ['सांस फूलना', 'सांस लेने में दिक्कत', 'छाती म...  "
      ]
     },
     "execution_count": 60,
     "metadata": {},
     "output_type": "execute_result"
    }
   ],
   "source": [
    "hi_questions.head()"
   ]
  },
  {
   "cell_type": "code",
   "execution_count": null,
   "metadata": {},
   "outputs": [],
   "source": []
  },
  {
   "cell_type": "markdown",
   "metadata": {},
   "source": [
    "# Translating government advisory into multiple languages"
   ]
  },
  {
   "cell_type": "code",
   "execution_count": 12,
   "metadata": {
    "ExecuteTime": {
     "end_time": "2020-03-27T07:28:38.591962Z",
     "start_time": "2020-03-27T07:28:38.572470Z"
    }
   },
   "outputs": [
    {
     "data": {
      "text/html": [
       "<div>\n",
       "<style scoped>\n",
       "    .dataframe tbody tr th:only-of-type {\n",
       "        vertical-align: middle;\n",
       "    }\n",
       "\n",
       "    .dataframe tbody tr th {\n",
       "        vertical-align: top;\n",
       "    }\n",
       "\n",
       "    .dataframe thead th {\n",
       "        text-align: right;\n",
       "    }\n",
       "</style>\n",
       "<table border=\"1\" class=\"dataframe\">\n",
       "  <thead>\n",
       "    <tr style=\"text-align: right;\">\n",
       "      <th></th>\n",
       "      <th>advice</th>\n",
       "      <th>hi_advice</th>\n",
       "    </tr>\n",
       "  </thead>\n",
       "  <tbody>\n",
       "    <tr>\n",
       "      <th>0</th>\n",
       "      <td>If you have a high fever, moderate to severe c...</td>\n",
       "      <td>अगर आप को तेज बुखार, गंभीर खांसी और साँस लेने ...</td>\n",
       "    </tr>\n",
       "    <tr>\n",
       "      <th>1</th>\n",
       "      <td>Precautions and protective measures</td>\n",
       "      <td>एहतियात और सुरक्षात्मक उपाय</td>\n",
       "    </tr>\n",
       "    <tr>\n",
       "      <th>2</th>\n",
       "      <td>Our hands touch many surfaces. Once contaminat...</td>\n",
       "      <td>हमारे हाथ कई स्थानों को छूते हैं। वे आसानी से ...</td>\n",
       "    </tr>\n",
       "    <tr>\n",
       "      <th>3</th>\n",
       "      <td>This is a highly infectious disease that can s...</td>\n",
       "      <td>\\nयह एक अत्यधिक संक्रामक बीमारी है जो थूक, बलग...</td>\n",
       "    </tr>\n",
       "    <tr>\n",
       "      <th>4</th>\n",
       "      <td>According to governmental guidelines, stay at ...</td>\n",
       "      <td>\\nसरकारी दिशानिर्देशों के अनुसार 15 April तक घ...</td>\n",
       "    </tr>\n",
       "  </tbody>\n",
       "</table>\n",
       "</div>"
      ],
      "text/plain": [
       "                                              advice  \\\n",
       "0  If you have a high fever, moderate to severe c...   \n",
       "1                Precautions and protective measures   \n",
       "2  Our hands touch many surfaces. Once contaminat...   \n",
       "3  This is a highly infectious disease that can s...   \n",
       "4  According to governmental guidelines, stay at ...   \n",
       "\n",
       "                                           hi_advice  \n",
       "0  अगर आप को तेज बुखार, गंभीर खांसी और साँस लेने ...  \n",
       "1                        एहतियात और सुरक्षात्मक उपाय  \n",
       "2  हमारे हाथ कई स्थानों को छूते हैं। वे आसानी से ...  \n",
       "3  \\nयह एक अत्यधिक संक्रामक बीमारी है जो थूक, बलग...  \n",
       "4  \\nसरकारी दिशानिर्देशों के अनुसार 15 April तक घ...  "
      ]
     },
     "execution_count": 12,
     "metadata": {},
     "output_type": "execute_result"
    }
   ],
   "source": [
    "import pandas as pd\n",
    "from googletrans import Translator\n",
    "translator = Translator()\n",
    "advisory = pd.read_csv(\"advisory.csv\")\n",
    "advisory.head()"
   ]
  },
  {
   "cell_type": "code",
   "execution_count": 22,
   "metadata": {
    "ExecuteTime": {
     "end_time": "2020-03-27T07:35:08.111955Z",
     "start_time": "2020-03-27T07:34:16.667700Z"
    }
   },
   "outputs": [],
   "source": [
    "import time\n",
    "lang_list = ['ta','te','mr','bn','ka']\n",
    "for lang in lang_list:\n",
    "    temp_advisory = advisory.copy()\n",
    "    temp = []\n",
    "    for statement in advisory['hi_advice']:\n",
    "        time.sleep(1)\n",
    "        temp.append(translator.translate(statement, src='hi', dest=lang).text)\n",
    "    temp_advisory[lang+\"_advice\"] = temp\n",
    "    temp_advisory.to_csv(lang+\"_advice.csv\")"
   ]
  }
 ],
 "metadata": {
  "kernelspec": {
   "display_name": "Python 3",
   "language": "python",
   "name": "python3"
  },
  "language_info": {
   "codemirror_mode": {
    "name": "ipython",
    "version": 3
   },
   "file_extension": ".py",
   "mimetype": "text/x-python",
   "name": "python",
   "nbconvert_exporter": "python",
   "pygments_lexer": "ipython3",
   "version": "3.7.6"
  },
  "varInspector": {
   "cols": {
    "lenName": 16,
    "lenType": 16,
    "lenVar": 40
   },
   "kernels_config": {
    "python": {
     "delete_cmd_postfix": "",
     "delete_cmd_prefix": "del ",
     "library": "var_list.py",
     "varRefreshCmd": "print(var_dic_list())"
    },
    "r": {
     "delete_cmd_postfix": ") ",
     "delete_cmd_prefix": "rm(",
     "library": "var_list.r",
     "varRefreshCmd": "cat(var_dic_list()) "
    }
   },
   "types_to_exclude": [
    "module",
    "function",
    "builtin_function_or_method",
    "instance",
    "_Feature"
   ],
   "window_display": false
  }
 },
 "nbformat": 4,
 "nbformat_minor": 4
}
