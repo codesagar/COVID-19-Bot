{
 "cells": [
  {
   "cell_type": "code",
   "execution_count": 50,
   "metadata": {
    "ExecuteTime": {
     "end_time": "2020-04-01T13:41:02.090719Z",
     "start_time": "2020-04-01T13:41:02.078537Z"
    }
   },
   "outputs": [],
   "source": [
    "import pandas as pd\n",
    "risk_values = pd.read_csv(\"risk_values.csv\")"
   ]
  },
  {
   "cell_type": "code",
   "execution_count": 55,
   "metadata": {
    "ExecuteTime": {
     "end_time": "2020-04-01T13:55:19.383838Z",
     "start_time": "2020-04-01T13:55:19.359323Z"
    }
   },
   "outputs": [
    {
     "name": "stdout",
     "output_type": "stream",
     "text": [
      "{'0-10': 1, '60-70': 2, '70-100': 3, 'No fever (96°F-98.6°F)': 0, 'Minor fever (98.6°F-102°F)': 2, 'High fever (>102°F)': 5, 'Don’t know': 0, 'Running nose': 1, 'Cough': 5, 'Sore throat': 3, 'Sneezing': 1, 'Shortness of breath': 5, 'Difficulty in breathing': 5, 'Continuous pain in the chest': 5, 'Hypertension(BP)': 1, 'Diabetes': 1, 'Asthma': 2, 'Heart disease': 2, 'Kidney disease': 1, 'None of these': 0, 'Health worsened': 2, 'No change in health': 1, '10-20': 1, '20-50': 2, 'More than 50': 3, 'Vomiting': 2, 'Blood vomiting': 5, 'Diarrhea': 2, 'Weakness': 2, 'Chemotherapy': 2, 'Radiotherapy': 2, 'TB': 3, 'Pneumonia': 3, 'Organ transplant': 2, 'Low immunity': 2, 'Medium immunity': 1, 'Good immunity': 0, 'Body pain': 3}\n"
     ]
    }
   ],
   "source": [
    "risk_score = {}\n",
    "for idx, row in risk_values.iterrows():\n",
    "    risk_score[row['keys']] = row['value']\n",
    "    \n",
    "print(risk_score)"
   ]
  },
  {
   "cell_type": "code",
   "execution_count": null,
   "metadata": {},
   "outputs": [],
   "source": []
  },
  {
   "cell_type": "code",
   "execution_count": null,
   "metadata": {},
   "outputs": [],
   "source": []
  },
  {
   "cell_type": "code",
   "execution_count": null,
   "metadata": {},
   "outputs": [],
   "source": []
  },
  {
   "cell_type": "code",
   "execution_count": null,
   "metadata": {},
   "outputs": [],
   "source": []
  },
  {
   "cell_type": "code",
   "execution_count": null,
   "metadata": {},
   "outputs": [],
   "source": []
  },
  {
   "cell_type": "code",
   "execution_count": 18,
   "metadata": {
    "ExecuteTime": {
     "end_time": "2020-04-01T12:48:59.658121Z",
     "start_time": "2020-04-01T12:48:59.636327Z"
    }
   },
   "outputs": [],
   "source": [
    "req_json = {\n",
    " \"version\" : 1,\n",
    " \"ID\" : \"c9c2bc32-2ceb-4c1d-a2dc-51006b737b37\",\n",
    " \"visit_time\" : 1585716382658,\n",
    " \"location_asked_at\" : 4,\n",
    " \"lang\" : \"Gujarati\",\n",
    " \"answers\" : {\n",
    "  \"disclaimer\" : \"I understand\",\n",
    "  \"age\" : \"50-60\",\n",
    "  \"gender\" : \"Female\",\n",
    "  \"fever\" : \"High fever (>102°F)\",\n",
    "  \"cold\" : [\n",
    "   \"Sore throat\"\n",
    "  ],\n",
    "  \"breathing\" : [\n",
    "   \"Difficulty in breathing\"\n",
    "  ],\n",
    "  \"travel\" : \"No\",\n",
    "  \"exposure\" : \"Yes\",\n",
    "  \"ailments\" : [\n",
    "   \"None of these\"\n",
    "  ],\n",
    "  \"progress\" : \"Health worsened\",\n",
    "  \"contact\" : \"10-20\",\n",
    "  \"profession\" : \"Police/Country Defense\",\n",
    "  \"extra\" : [\n",
    "   \"Diarrhea\"\n",
    "  ],\n",
    "  \"medication\" : [\n",
    "   \"Organ transplant\"\n",
    "  ],\n",
    "  \"immunity\" : \"Good immunity\",\n",
    "  \"mobile\" : \"No\"\n",
    " },\n",
    " \"selections\" : {\n",
    "  \"disclaimer\" : \"0\",\n",
    "  \"age\" : \"4\",\n",
    "  \"gender\" : \"1\",\n",
    "  \"fever\" : \"2\",\n",
    "  \"cold\" : [\n",
    "   \"2\"\n",
    "  ],\n",
    "  \"breathing\" : [\n",
    "   \"1\"\n",
    "  ],\n",
    "  \"travel\" : \"1\",\n",
    "  \"exposure\" : \"0\",\n",
    "  \"ailments\" : [\n",
    "   \"5\"\n",
    "  ],\n",
    "  \"progress\" : \"1\",\n",
    "  \"contact\" : \"2\",\n",
    "  \"profession\" : \"11\",\n",
    "  \"extra\" : [\n",
    "   \"2\"\n",
    "  ],\n",
    "  \"medication\" : [\n",
    "   \"4\"\n",
    "  ],\n",
    "  \"immunity\" : \"2\",\n",
    "  \"mobile\" : \"1\"\n",
    " },\n",
    " \"action_time\" : {\n",
    "  \"disclaimer\" : 1585716427001,\n",
    "  \"age\" : 1585716429300,\n",
    "  \"gender\" : 1585716431741,\n",
    "  \"fever\" : 1585716433639,\n",
    "  \"cold\" : 1585716436284,\n",
    "  \"breathing\" : 1585716439189,\n",
    "  \"travel\" : 1585716441051,\n",
    "  \"exposure\" : 1585716442986,\n",
    "  \"ailments\" : 1585716446735,\n",
    "  \"progress\" : 1585716449763,\n",
    "  \"contact\" : 1585716451923,\n",
    "  \"profession\" : 1585716454109,\n",
    "  \"extra\" : 1585716457113,\n",
    "  \"medication\" : 1585716459915,\n",
    "  \"immunity\" : 1585716461946,\n",
    "  \"mobile\" : 1585716465195\n",
    " },\n",
    " \"mode\" : \"survey\",\n",
    " \"location\" : {\n",
    "  \"ip\" : \"117.98.143.136\",\n",
    "  \"city\" : \"Attapur\",\n",
    "  \"region\" : \"Telangana\",\n",
    "  \"country\" : \"India\",\n",
    "  \"lat\" : \"17.3686\",\n",
    "  \"lon\" : \"78.4356\"\n",
    " },\n",
    " \"device\" : {\n",
    "  \"class\" : \"Smartphone\",\n",
    "  \"brand\" : \"Google\",\n",
    "  \"model\" : \"Pixel 2 XL\",\n",
    "  \"os\" : \"Android 8.0 Oreo\",\n",
    "  \"medium\" : \"Chrome Mobile\"\n",
    " },\n",
    " \"referrer\" : \"\",\n",
    " \"submit_time\" : 1585716465196,\n",
    " \"risk_prediction\" : \"Low Risk\"\n",
    "}"
   ]
  },
  {
   "cell_type": "code",
   "execution_count": 19,
   "metadata": {
    "ExecuteTime": {
     "end_time": "2020-04-01T12:49:02.225037Z",
     "start_time": "2020-04-01T12:49:02.216271Z"
    }
   },
   "outputs": [
    {
     "data": {
      "text/plain": [
       "dict_keys(['version', 'ID', 'visit_time', 'location_asked_at', 'lang', 'answers', 'selections', 'action_time', 'mode', 'location', 'device', 'referrer', 'submit_time', 'risk_prediction'])"
      ]
     },
     "execution_count": 19,
     "metadata": {},
     "output_type": "execute_result"
    }
   ],
   "source": [
    "req_json.keys()"
   ]
  },
  {
   "cell_type": "code",
   "execution_count": 61,
   "metadata": {
    "ExecuteTime": {
     "end_time": "2020-04-01T14:23:39.608995Z",
     "start_time": "2020-04-01T14:23:39.581657Z"
    }
   },
   "outputs": [
    {
     "data": {
      "text/plain": [
       "False"
      ]
     },
     "execution_count": 61,
     "metadata": {},
     "output_type": "execute_result"
    }
   ],
   "source": [
    "risk_score = {'0-10': 1, '60-70': 2, '70-100': 3, 'No fever (96°F-98.6°F)': 0, 'Minor fever (98.6°F-102°F)': 2, 'High fever (>102°F)': 5, 'Don’t know': 0, 'Running nose': 1, 'Cough': 5, 'Sore throat': 3, 'Sneezing': 1, 'Shortness of breath': 5, 'Difficulty in breathing': 5, 'Continuous pain in the chest': 5, 'Hypertension(BP)': 1, 'Diabetes': 1, 'Asthma': 2, 'Heart disease': 2, 'Kidney disease': 1, 'None of these': 0, 'Health worsened': 2, 'No change in health': 1, '10-20': 1, '20-50': 2, 'More than 50': 3, 'Vomiting': 2, 'Blood vomiting': 5, 'Diarrhea': 2, 'Weakness': 3, 'Chemotherapy': 2, 'Radiotherapy': 2, 'TB': 3, 'Pneumonia': 3, 'Organ transplant': 2, 'Low immunity': 2, 'Medium immunity': 1, 'Good immunity': 0, 'Body pain': 3}\n",
    "'Yes' in risk_score.keys()"
   ]
  },
  {
   "cell_type": "code",
   "execution_count": 59,
   "metadata": {
    "ExecuteTime": {
     "end_time": "2020-04-01T14:00:19.822133Z",
     "start_time": "2020-04-01T14:00:19.804410Z"
    }
   },
   "outputs": [
    {
     "name": "stdout",
     "output_type": "stream",
     "text": [
      "{'fever': 5, 'cold': 3, 'breathing': 5, 'exposure': 3, 'ailments': 0, 'progress': 2, 'contact': 1, 'extra': 2, 'medication': 2, 'immunity': 0}\n",
      "23\n",
      "23\n"
     ]
    }
   ],
   "source": [
    "score_log = {}\n",
    "raw_score = 0\n",
    "clean_score = 0\n",
    "for key, value in req_json['answers'].items():\n",
    "    if isinstance(value, list):\n",
    "        local_score = 0\n",
    "        for sub_value in value:\n",
    "            if(sub_value in risk_score.keys()):\n",
    "                local_score += risk_score[sub_value]\n",
    "                raw_score += risk_score[sub_value]\n",
    "        score_log[key] = min([local_score, 5])\n",
    "        clean_score += min([local_score, 5])\n",
    "    else:\n",
    "        if(key in ['exposure','travel'] and value=='Yes'):\n",
    "            score_log[key] = 3\n",
    "            raw_score += 3\n",
    "            clean_score += 3\n",
    "        elif(value in risk_score.keys()):\n",
    "            score_log[key] = risk_score[value]\n",
    "            raw_score += risk_score[value]\n",
    "            clean_score += risk_score[value]\n",
    "\n",
    "sent_score = min(clean_score, 25)\n",
    "print(score_log)\n",
    "print(raw_score)\n",
    "print(clean_score)"
   ]
  },
  {
   "cell_type": "code",
   "execution_count": 46,
   "metadata": {
    "ExecuteTime": {
     "end_time": "2020-04-01T13:17:13.310020Z",
     "start_time": "2020-04-01T13:17:13.303362Z"
    }
   },
   "outputs": [
    {
     "data": {
      "text/plain": [
       "20"
      ]
     },
     "execution_count": 46,
     "metadata": {},
     "output_type": "execute_result"
    }
   ],
   "source": [
    "user_score = 0\n",
    "for score in score_log.values():\n",
    "    user_score += score\n",
    "user_score"
   ]
  },
  {
   "cell_type": "code",
   "execution_count": 8,
   "metadata": {
    "ExecuteTime": {
     "end_time": "2020-03-31T13:56:57.033254Z",
     "start_time": "2020-03-31T13:56:57.025166Z"
    }
   },
   "outputs": [
    {
     "data": {
      "text/plain": [
       "True"
      ]
     },
     "execution_count": 8,
     "metadata": {},
     "output_type": "execute_result"
    }
   ],
   "source": [
    "high_count = 0\n",
    "mid_count = 0\n",
    "if (req_json ['answers']['fever'] == 'High fever (>102°F)'):\n",
    "    high_count += 1\n",
    "    mid_count += 1\n",
    "if ('None of these' not in req_json ['answers']['breathing'] and len(req_json ['answers']['breathing']) > 0):\n",
    "    high_count += 1\n",
    "    mid_count += 1\n",
    "if ('Cough' in req_json ['answers']['cold']):\n",
    "    high_count += 1\n",
    "    mid_count += 1 \n",
    "    \n",
    "    \n",
    "if high_count>2:\n",
    "    risk_score = \"High\"\n",
    "else high_count>1 and "
   ]
  },
  {
   "cell_type": "code",
   "execution_count": 15,
   "metadata": {
    "ExecuteTime": {
     "end_time": "2020-03-31T14:00:37.558206Z",
     "start_time": "2020-03-31T14:00:37.547898Z"
    }
   },
   "outputs": [
    {
     "data": {
      "text/plain": [
       "True"
      ]
     },
     "execution_count": 15,
     "metadata": {},
     "output_type": "execute_result"
    }
   ],
   "source": [
    "('None of these' not in req_json ['answers']['breathing']) and len(req_json ['answers']['breathing'])>0"
   ]
  },
  {
   "cell_type": "code",
   "execution_count": null,
   "metadata": {},
   "outputs": [],
   "source": []
  }
 ],
 "metadata": {
  "kernelspec": {
   "display_name": "Python 3",
   "language": "python",
   "name": "python3"
  },
  "language_info": {
   "codemirror_mode": {
    "name": "ipython",
    "version": 3
   },
   "file_extension": ".py",
   "mimetype": "text/x-python",
   "name": "python",
   "nbconvert_exporter": "python",
   "pygments_lexer": "ipython3",
   "version": "3.7.7"
  },
  "varInspector": {
   "cols": {
    "lenName": 16,
    "lenType": 16,
    "lenVar": 40
   },
   "kernels_config": {
    "python": {
     "delete_cmd_postfix": "",
     "delete_cmd_prefix": "del ",
     "library": "var_list.py",
     "varRefreshCmd": "print(var_dic_list())"
    },
    "r": {
     "delete_cmd_postfix": ") ",
     "delete_cmd_prefix": "rm(",
     "library": "var_list.r",
     "varRefreshCmd": "cat(var_dic_list()) "
    }
   },
   "types_to_exclude": [
    "module",
    "function",
    "builtin_function_or_method",
    "instance",
    "_Feature"
   ],
   "window_display": false
  }
 },
 "nbformat": 4,
 "nbformat_minor": 4
}
