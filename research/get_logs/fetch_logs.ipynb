{
 "cells": [
  {
   "cell_type": "code",
   "execution_count": 4,
   "metadata": {
    "ExecuteTime": {
     "end_time": "2020-04-06T11:36:44.147633Z",
     "start_time": "2020-04-06T11:36:38.936380Z"
    }
   },
   "outputs": [
    {
     "data": {
      "text/plain": [
       "True"
      ]
     },
     "execution_count": 4,
     "metadata": {},
     "output_type": "execute_result"
    }
   ],
   "source": [
    "from pymongo import MongoClient\n",
    "\n",
    "client = MongoClient(\"mongodb://checkcorona:422wslN1NVCtNKCQgLqcM5P6jE0Wx4N4oQvIexKeBgFxxnWiAuYENrNr8iBUkBz4TPMwdq8vc8XxD41veTPH5w==@checkcorona.mongo.cosmos.azure.com:10255/?ssl=true&replicaSet=globaldb&retrywrites=false&maxIdleTimeMS=120000&appName=@checkcorona@\") #host uri\n",
    "db = client.corona    #Select the database\n",
    "db.authenticate(name=\"checkcorona\",password='422wslN1NVCtNKCQgLqcM5P6jE0Wx4N4oQvIexKeBgFxxnWiAuYENrNr8iBUkBz4TPMwdq8vc8XxD41veTPH5w==')\n"
   ]
  },
  {
   "cell_type": "code",
   "execution_count": 5,
   "metadata": {
    "ExecuteTime": {
     "end_time": "2020-04-06T11:36:44.856993Z",
     "start_time": "2020-04-06T11:36:44.853873Z"
    }
   },
   "outputs": [],
   "source": [
    "userdata = db.userdata\n",
    "visits = db.visits"
   ]
  },
  {
   "cell_type": "code",
   "execution_count": 6,
   "metadata": {
    "ExecuteTime": {
     "end_time": "2020-04-06T11:36:46.627468Z",
     "start_time": "2020-04-06T11:36:45.509555Z"
    }
   },
   "outputs": [
    {
     "name": "stdout",
     "output_type": "stream",
     "text": [
      "500\n"
     ]
    }
   ],
   "source": [
    "total_visits = []\n",
    "for data in visits.find({}):\n",
    "    total_visits.append(data)\n",
    "print(len(total_visits))"
   ]
  },
  {
   "cell_type": "code",
   "execution_count": 7,
   "metadata": {
    "ExecuteTime": {
     "end_time": "2020-04-06T11:36:51.297849Z",
     "start_time": "2020-04-06T11:36:48.852452Z"
    }
   },
   "outputs": [],
   "source": [
    "all_user_data = []\n",
    "for data in userdata.find({}):\n",
    "    all_user_data.append(data)"
   ]
  },
  {
   "cell_type": "code",
   "execution_count": 5,
   "metadata": {
    "ExecuteTime": {
     "end_time": "2020-04-06T11:36:51.378250Z",
     "start_time": "2020-04-06T11:36:51.368996Z"
    }
   },
   "outputs": [
    {
     "data": {
      "text/plain": [
       "284"
      ]
     },
     "execution_count": 5,
     "metadata": {},
     "output_type": "execute_result"
    }
   ],
   "source": [
    "len(all_user_data)"
   ]
  },
  {
   "cell_type": "code",
   "execution_count": 10,
   "metadata": {
    "ExecuteTime": {
     "end_time": "2020-04-03T15:06:49.529114Z",
     "start_time": "2020-04-03T15:06:49.512949Z"
    }
   },
   "outputs": [],
   "source": [
    "import pandas as pd\n",
    "user_df = pd.DataFrame(all_user_data)\n"
   ]
  },
  {
   "cell_type": "code",
   "execution_count": 15,
   "metadata": {
    "ExecuteTime": {
     "end_time": "2020-04-03T15:09:42.337487Z",
     "start_time": "2020-04-03T15:09:42.330221Z"
    }
   },
   "outputs": [
    {
     "data": {
      "text/plain": [
       "{'disclaimer': 'I understand',\n",
       " 'age': '10-20',\n",
       " 'gender': 'Male',\n",
       " 'fever': 'No fever (96°F-98.6°F)',\n",
       " 'cold': ['Cough', 'Sore throat'],\n",
       " 'breathing': ['Shortness of breath'],\n",
       " 'travel': 'No',\n",
       " 'exposure': 'Yes',\n",
       " 'ailments': ['None of these'],\n",
       " 'progress': 'No change in health',\n",
       " 'contact': '5-10',\n",
       " 'profession': 'Teacher',\n",
       " 'extra': ['Weakness'],\n",
       " 'medication': ['None of these'],\n",
       " 'immunity': 'Low immunity',\n",
       " 'mobile': 'No'}"
      ]
     },
     "execution_count": 15,
     "metadata": {},
     "output_type": "execute_result"
    }
   ],
   "source": [
    "all_user_data[1]['answers']"
   ]
  },
  {
   "cell_type": "code",
   "execution_count": 27,
   "metadata": {
    "ExecuteTime": {
     "end_time": "2020-04-03T15:22:33.418195Z",
     "start_time": "2020-04-03T15:22:33.408092Z"
    }
   },
   "outputs": [
    {
     "data": {
      "text/plain": [
       "20"
      ]
     },
     "execution_count": 27,
     "metadata": {},
     "output_type": "execute_result"
    }
   ],
   "source": [
    "all_user_data[1]['server_log']['sent_score']"
   ]
  },
  {
   "cell_type": "code",
   "execution_count": 28,
   "metadata": {
    "ExecuteTime": {
     "end_time": "2020-04-03T15:22:47.737735Z",
     "start_time": "2020-04-03T15:22:47.662871Z"
    }
   },
   "outputs": [
    {
     "data": {
      "text/html": [
       "<div>\n",
       "<style scoped>\n",
       "    .dataframe tbody tr th:only-of-type {\n",
       "        vertical-align: middle;\n",
       "    }\n",
       "\n",
       "    .dataframe tbody tr th {\n",
       "        vertical-align: top;\n",
       "    }\n",
       "\n",
       "    .dataframe thead th {\n",
       "        text-align: right;\n",
       "    }\n",
       "</style>\n",
       "<table border=\"1\" class=\"dataframe\">\n",
       "  <thead>\n",
       "    <tr style=\"text-align: right;\">\n",
       "      <th></th>\n",
       "      <th>disclaimer</th>\n",
       "      <th>age</th>\n",
       "      <th>gender</th>\n",
       "      <th>fever</th>\n",
       "      <th>cold</th>\n",
       "      <th>breathing</th>\n",
       "      <th>travel</th>\n",
       "      <th>exposure</th>\n",
       "      <th>ailments</th>\n",
       "      <th>progress</th>\n",
       "      <th>contact</th>\n",
       "      <th>profession</th>\n",
       "      <th>extra</th>\n",
       "      <th>medication</th>\n",
       "      <th>immunity</th>\n",
       "      <th>mobile</th>\n",
       "      <th>location</th>\n",
       "      <th>score</th>\n",
       "    </tr>\n",
       "  </thead>\n",
       "  <tbody>\n",
       "    <tr>\n",
       "      <th>0</th>\n",
       "      <td>I understand</td>\n",
       "      <td>20-30</td>\n",
       "      <td>Female</td>\n",
       "      <td>High fever (&gt;102°F)</td>\n",
       "      <td>[Cough]</td>\n",
       "      <td>[Difficulty in breathing]</td>\n",
       "      <td>Yes</td>\n",
       "      <td>Yes</td>\n",
       "      <td>[Diabetes]</td>\n",
       "      <td>Health worsened</td>\n",
       "      <td>10-20</td>\n",
       "      <td>Teacher</td>\n",
       "      <td>[Blood vomiting]</td>\n",
       "      <td>[Radiotherapy]</td>\n",
       "      <td>Low immunity</td>\n",
       "      <td>No</td>\n",
       "      <td>{'ip': '117.98.143.136', 'city': 'Attapur', 'r...</td>\n",
       "      <td>25</td>\n",
       "    </tr>\n",
       "    <tr>\n",
       "      <th>1</th>\n",
       "      <td>I understand</td>\n",
       "      <td>10-20</td>\n",
       "      <td>Male</td>\n",
       "      <td>No fever (96°F-98.6°F)</td>\n",
       "      <td>[Cough, Sore throat]</td>\n",
       "      <td>[Shortness of breath]</td>\n",
       "      <td>No</td>\n",
       "      <td>Yes</td>\n",
       "      <td>[None of these]</td>\n",
       "      <td>No change in health</td>\n",
       "      <td>5-10</td>\n",
       "      <td>Teacher</td>\n",
       "      <td>[Weakness]</td>\n",
       "      <td>[None of these]</td>\n",
       "      <td>Low immunity</td>\n",
       "      <td>No</td>\n",
       "      <td>{'ip': '117.98.143.136', 'city': 'Attapur', 'r...</td>\n",
       "      <td>20</td>\n",
       "    </tr>\n",
       "    <tr>\n",
       "      <th>2</th>\n",
       "      <td>I understand</td>\n",
       "      <td>10-20</td>\n",
       "      <td>Female</td>\n",
       "      <td>High fever (&gt;102°F)</td>\n",
       "      <td>[Sore throat]</td>\n",
       "      <td>[Continuous pain in the chest]</td>\n",
       "      <td>No</td>\n",
       "      <td>No</td>\n",
       "      <td>[None of these]</td>\n",
       "      <td>No change in health</td>\n",
       "      <td>5-10</td>\n",
       "      <td>Police/Country Defense</td>\n",
       "      <td>[Weakness]</td>\n",
       "      <td>[]</td>\n",
       "      <td>Medium immunity</td>\n",
       "      <td>No</td>\n",
       "      <td>{'ip': '117.98.143.136', 'city': 'Attapur', 'r...</td>\n",
       "      <td>19</td>\n",
       "    </tr>\n",
       "    <tr>\n",
       "      <th>3</th>\n",
       "      <td>I understand</td>\n",
       "      <td>40-50</td>\n",
       "      <td>Female</td>\n",
       "      <td>High fever (&gt;102°F)</td>\n",
       "      <td>[Cough, Sore throat]</td>\n",
       "      <td>[Difficulty in breathing]</td>\n",
       "      <td>Yes</td>\n",
       "      <td>Yes</td>\n",
       "      <td>[Hypertension(BP)]</td>\n",
       "      <td>Health worsened</td>\n",
       "      <td>5-10</td>\n",
       "      <td>Sales/Marketing</td>\n",
       "      <td>[Weakness]</td>\n",
       "      <td>[Chemotherapy]</td>\n",
       "      <td>Medium immunity</td>\n",
       "      <td>NaN</td>\n",
       "      <td>{'ip': '123.201.57.70', 'city': 'Vadodara', 'r...</td>\n",
       "      <td>25</td>\n",
       "    </tr>\n",
       "    <tr>\n",
       "      <th>4</th>\n",
       "      <td>I understand</td>\n",
       "      <td>50-60</td>\n",
       "      <td>Female</td>\n",
       "      <td>High fever (&gt;102°F)</td>\n",
       "      <td>[Sore throat, Cough, Running nose]</td>\n",
       "      <td>[Shortness of breath]</td>\n",
       "      <td>Yes</td>\n",
       "      <td>No</td>\n",
       "      <td>[Hypertension(BP)]</td>\n",
       "      <td>Health worsened</td>\n",
       "      <td>20-50</td>\n",
       "      <td>Government Employee</td>\n",
       "      <td>[Weakness]</td>\n",
       "      <td>[None of these]</td>\n",
       "      <td>Low immunity</td>\n",
       "      <td>NaN</td>\n",
       "      <td>{'ip': '123.201.57.70', 'city': 'Vadodara', 'r...</td>\n",
       "      <td>100</td>\n",
       "    </tr>\n",
       "  </tbody>\n",
       "</table>\n",
       "</div>"
      ],
      "text/plain": [
       "     disclaimer    age  gender                   fever  \\\n",
       "0  I understand  20-30  Female     High fever (>102°F)   \n",
       "1  I understand  10-20    Male  No fever (96°F-98.6°F)   \n",
       "2  I understand  10-20  Female     High fever (>102°F)   \n",
       "3  I understand  40-50  Female     High fever (>102°F)   \n",
       "4  I understand  50-60  Female     High fever (>102°F)   \n",
       "\n",
       "                                 cold                       breathing travel  \\\n",
       "0                             [Cough]       [Difficulty in breathing]    Yes   \n",
       "1                [Cough, Sore throat]           [Shortness of breath]     No   \n",
       "2                       [Sore throat]  [Continuous pain in the chest]     No   \n",
       "3                [Cough, Sore throat]       [Difficulty in breathing]    Yes   \n",
       "4  [Sore throat, Cough, Running nose]           [Shortness of breath]    Yes   \n",
       "\n",
       "  exposure            ailments             progress contact  \\\n",
       "0      Yes          [Diabetes]      Health worsened   10-20   \n",
       "1      Yes     [None of these]  No change in health    5-10   \n",
       "2       No     [None of these]  No change in health    5-10   \n",
       "3      Yes  [Hypertension(BP)]      Health worsened    5-10   \n",
       "4       No  [Hypertension(BP)]      Health worsened   20-50   \n",
       "\n",
       "               profession             extra       medication         immunity  \\\n",
       "0                 Teacher  [Blood vomiting]   [Radiotherapy]     Low immunity   \n",
       "1                 Teacher        [Weakness]  [None of these]     Low immunity   \n",
       "2  Police/Country Defense        [Weakness]               []  Medium immunity   \n",
       "3         Sales/Marketing        [Weakness]   [Chemotherapy]  Medium immunity   \n",
       "4     Government Employee        [Weakness]  [None of these]     Low immunity   \n",
       "\n",
       "  mobile                                           location  score  \n",
       "0     No  {'ip': '117.98.143.136', 'city': 'Attapur', 'r...     25  \n",
       "1     No  {'ip': '117.98.143.136', 'city': 'Attapur', 'r...     20  \n",
       "2     No  {'ip': '117.98.143.136', 'city': 'Attapur', 'r...     19  \n",
       "3    NaN  {'ip': '123.201.57.70', 'city': 'Vadodara', 'r...     25  \n",
       "4    NaN  {'ip': '123.201.57.70', 'city': 'Vadodara', 'r...    100  "
      ]
     },
     "execution_count": 28,
     "metadata": {},
     "output_type": "execute_result"
    }
   ],
   "source": [
    "user_answers = []\n",
    "location = []\n",
    "score = []\n",
    "for data in all_user_data:\n",
    "#     print(data['answers'])\n",
    "    score.append(data['server_log']['sent_score'])\n",
    "    if 'location' in data.keys():\n",
    "        location.append(data['location'])\n",
    "    else:\n",
    "        location.append(\"NA\")\n",
    "    user_answers.append(data['answers'])\n",
    "    \n",
    "user_answers_df = pd.DataFrame(user_answers)\n",
    "user_answers_df['location'] = location\n",
    "user_answers_df['score'] = score\n",
    "user_answers_df.head()"
   ]
  },
  {
   "cell_type": "code",
   "execution_count": 30,
   "metadata": {
    "ExecuteTime": {
     "end_time": "2020-04-03T15:23:33.697402Z",
     "start_time": "2020-04-03T15:23:33.676934Z"
    }
   },
   "outputs": [],
   "source": [
    "user_answers_df.sample(50).to_csv(\"corona_sample_data.csv\")"
   ]
  },
  {
   "cell_type": "code",
   "execution_count": null,
   "metadata": {},
   "outputs": [],
   "source": []
  }
 ],
 "metadata": {
  "kernelspec": {
   "display_name": "Python 3",
   "language": "python",
   "name": "python3"
  },
  "language_info": {
   "codemirror_mode": {
    "name": "ipython",
    "version": 3
   },
   "file_extension": ".py",
   "mimetype": "text/x-python",
   "name": "python",
   "nbconvert_exporter": "python",
   "pygments_lexer": "ipython3",
   "version": "3.7.7"
  },
  "varInspector": {
   "cols": {
    "lenName": 16,
    "lenType": 16,
    "lenVar": 40
   },
   "kernels_config": {
    "python": {
     "delete_cmd_postfix": "",
     "delete_cmd_prefix": "del ",
     "library": "var_list.py",
     "varRefreshCmd": "print(var_dic_list())"
    },
    "r": {
     "delete_cmd_postfix": ") ",
     "delete_cmd_prefix": "rm(",
     "library": "var_list.r",
     "varRefreshCmd": "cat(var_dic_list()) "
    }
   },
   "types_to_exclude": [
    "module",
    "function",
    "builtin_function_or_method",
    "instance",
    "_Feature"
   ],
   "window_display": false
  }
 },
 "nbformat": 4,
 "nbformat_minor": 4
}
